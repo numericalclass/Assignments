{
 "cells": [
  {
   "cell_type": "markdown",
   "id": "4a0a5cc7",
   "metadata": {},
   "source": [
    "# Numerical solutions of Non-linear Equations"
   ]
  },
  {
   "cell_type": "markdown",
   "id": "14d1c7c4",
   "metadata": {},
   "source": [
    "# plotting"
   ]
  },
  {
   "cell_type": "code",
   "execution_count": 34,
   "id": "90402d23",
   "metadata": {},
   "outputs": [],
   "source": [
    "import matplotlib.pyplot as plt\n",
    "import numpy as np"
   ]
  },
  {
   "cell_type": "code",
   "execution_count": 45,
   "id": "64657626",
   "metadata": {},
   "outputs": [
    {
     "data": {
      "text/plain": [
       "Text(0, 0.5, 'y-axis')"
      ]
     },
     "execution_count": 45,
     "metadata": {},
     "output_type": "execute_result"
    },
    {
     "data": {
      "image/png": "[encoded data removed]",
      "text/plain": [
       "<Figure size 432x288 with 1 Axes>"
      ]
     },
     "metadata": {
      "needs_background": "light"
     },
     "output_type": "display_data"
    }
   ],
   "source": [
    "x = np.linspace(0,1,10)\n",
    "y = x**2\n",
    "plt.plot(x,y,'ro--')\n",
    "plt.grid()\n",
    "plt.xlabel('x-axis',fontsize=15)\n",
    "plt.ylabel('y-axis',fontsize=15)"
   ]
  },
  {
   "cell_type": "markdown",
   "id": "47b75175",
   "metadata": {},
   "source": [
    "# Loop"
   ]
  },
  {
   "cell_type": "code",
   "execution_count": 54,
   "id": "47113550",
   "metadata": {},
   "outputs": [
    {
     "name": "stdout",
     "output_type": "stream",
     "text": [
      "0 1 2 3 4 "
     ]
    }
   ],
   "source": [
    "a = 5\n",
    "for i in range(a):\n",
    "    print(i,end=' ')"
   ]
  },
  {
   "cell_type": "code",
   "execution_count": 55,
   "id": "ece11242",
   "metadata": {},
   "outputs": [
    {
     "name": "stdout",
     "output_type": "stream",
     "text": [
      "1\n",
      "2\n",
      "4\n",
      "kazim\n",
      "['usman', 'uu']\n"
     ]
    }
   ],
   "source": [
    "lst = [1,2,4,'kazim',['usman','uu']]\n",
    "for i in lst:\n",
    "    print(i)"
   ]
  },
  {
   "cell_type": "code",
   "execution_count": 61,
   "id": "305198e4",
   "metadata": {},
   "outputs": [
    {
     "name": "stdout",
     "output_type": "stream",
     "text": [
      "i=0 j=0\n",
      "i=0 j=1\n",
      "i=0 j=2\n",
      "i=1 j=0\n",
      "i=1 j=1\n",
      "i=1 j=2\n",
      "i=2 j=0\n",
      "i=2 j=1\n",
      "i=2 j=2\n"
     ]
    }
   ],
   "source": [
    "for i in range(3):\n",
    "    for j in range(3):\n",
    "        print('i={} j={}'.format(i,j))"
   ]
  },
  {
   "cell_type": "code",
   "execution_count": 62,
   "id": "f6c409a3",
   "metadata": {},
   "outputs": [
    {
     "data": {
      "text/plain": [
       "8"
      ]
     },
     "execution_count": 62,
     "metadata": {},
     "output_type": "execute_result"
    }
   ],
   "source": [
    "def f(x):\n",
    "    fn = x**2 + 5*x + 2\n",
    "    return fn\n",
    "f(1)"
   ]
  },
  {
   "cell_type": "code",
   "execution_count": null,
   "id": "7dc4a239",
   "metadata": {},
   "outputs": [],
   "source": []
  },
  {
   "cell_type": "markdown",
   "id": "ba8be580",
   "metadata": {},
   "source": [
    "# Bisection Method"
   ]
  },
  {
   "cell_type": "markdown",
   "id": "483204cc",
   "metadata": {},
   "source": [
    "**Algorithm**\n",
    "1. define function f(x)\n",
    "2. Choose initial guess $x_0$ and $x_1$ such that $f(x_0)f(x_1) < 0$\n",
    "3. choose the pre-specified tolerable error e.\n",
    "4. calculate new approximated root as $x_2=(x_0+x_1)/2$\n",
    "5. calculate $f(x_0)f(x_2)$ <br> \n",
    "    a. if $f(x_0)f(x_2) < 0$ then $x_0 = x_0$ and $x_1 = x_2$ <br>\n",
    "    b. if $f(x_0)f(x_2) > 0$ then $x_0 = x_2$ and $x_1 = x_1$ <br>\n",
    "    c. if $f(x_0)f(x_2) = 0$ then goto  (7) <br>\n",
    "6. if $|f(x_2) > e|$ then goto (4) otherwise goto (7)\n",
    "7. Display $x_2$ as root\n",
    "8. stop"
   ]
  },
  {
   "cell_type": "code",
   "execution_count": 3,
   "id": "8f2b3eff",
   "metadata": {},
   "outputs": [
    {
     "name": "stdout",
     "output_type": "stream",
     "text": [
      "first guess: 2\n",
      "second guess: 3\n",
      "tolerance: 0.000001\n",
      "iteration 1, x2 = 2.500000 and f(x2)= -5.875000\n",
      "iteration 2, x2 = 2.750000 and f(x2)= -1.953125\n",
      "iteration 3, x2 = 2.875000 and f(x2)= 0.388672\n",
      "iteration 4, x2 = 2.812500 and f(x2)= -0.815186\n",
      "iteration 5, x2 = 2.843750 and f(x2)= -0.221588\n",
      "iteration 6, x2 = 2.859375 and f(x2)= 0.081448\n",
      "iteration 7, x2 = 2.851562 and f(x2)= -0.070592\n",
      "iteration 8, x2 = 2.855469 and f(x2)= 0.005297\n",
      "iteration 9, x2 = 2.853516 and f(x2)= -0.032680\n",
      "iteration 10, x2 = 2.854492 and f(x2)= -0.013700\n",
      "iteration 11, x2 = 2.854980 and f(x2)= -0.004204\n",
      "iteration 12, x2 = 2.855225 and f(x2)= 0.000546\n",
      "iteration 13, x2 = 2.855103 and f(x2)= -0.001829\n",
      "iteration 14, x2 = 2.855164 and f(x2)= -0.000641\n",
      "iteration 15, x2 = 2.855194 and f(x2)= -0.000048\n",
      "iteration 16, x2 = 2.855209 and f(x2)= 0.000249\n",
      "iteration 17, x2 = 2.855202 and f(x2)= 0.000101\n",
      "iteration 18, x2 = 2.855198 and f(x2)= 0.000027\n",
      "iteration 19, x2 = 2.855196 and f(x2)= -0.000011\n",
      "iteration 20, x2 = 2.855197 and f(x2)= 0.000008\n",
      "iteration 21, x2 = 2.855196 and f(x2)= -0.000001\n",
      "iteration 22, x2 = 2.855197 and f(x2)= 0.000003\n",
      "iteration 23, x2 = 2.855197 and f(x2)= 0.000001\n",
      "iteration 24, x2 = 2.855197 and f(x2)= -0.000000\n",
      "root is :2.85519654 \n"
     ]
    }
   ],
   "source": [
    "# guess1 = 2, guess2 = 3\n",
    "def bisection(x0,x1,e):\n",
    "    step = 1\n",
    "    condition = True\n",
    "    while condition:\n",
    "        x2 = (x0+x1)/2\n",
    "        print('iteration %d, x2 = %0.6f and f(x2)= %0.6f' %(step,x2,f(x2)))\n",
    "        \n",
    "        if f(x0) * f(x2) < 0:\n",
    "            x1 = x2\n",
    "        else:\n",
    "            x0 = x2\n",
    "        step = step +1\n",
    "        condition = abs(f(x2)) > e\n",
    "    print('root is :%0.8f '%x2)\n",
    "#    return x2\n",
    "\n",
    "def f(x):\n",
    "    return x**3-5*x-9\n",
    "\n",
    "x0 = float(input('first guess: '))\n",
    "x1 = float(input('second guess: '))\n",
    "e  = float(input('tolerance: '))\n",
    "\n",
    "if f(x0) * f(x1) > 0.0:\n",
    "    print('given guess values do not bracket the root')\n",
    "else:\n",
    "    root = bisection(x0,x1,e)\n",
    "    "
   ]
  },
  {
   "cell_type": "markdown",
   "id": "debc3dc3",
   "metadata": {},
   "source": [
    "# Newton's Raphson Method\n",
    "\n",
    "**Algorithm**\n",
    "\n",
    "1. Find $f'(x)$ and define newton's raphson equation\n",
    "2. Guess an initial value of x for the first iteration\n",
    "3. substitute x in the NR equation and calculate $x^*$\n",
    "4. if $|x^*-x|<tolerance$, stop iterations and output the root: $x^*$\n",
    "5. if the number of interations reaches an assumed maximum, stop.\n",
    "6. else let $x=x^*$ and repeat the steps from 3 until a condition in 4 or 5 is satisfied."
   ]
  },
  {
   "cell_type": "markdown",
   "id": "7e2aaac0",
   "metadata": {},
   "source": [
    "# Example"
   ]
  },
  {
   "cell_type": "markdown",
   "id": "7e0bd288",
   "metadata": {},
   "source": [
    "Find the roots of the following cubic equation:<br>\n",
    "    $2x^3-9.5x+7.5=0$\n",
    "    \n",
    "**Solution**<br>\n",
    "\n",
    "let $f(x)=2x^3-9.5x+7.5$ <br>\n",
    "then $f'(x)=6x^2-9.5$\n",
    "\n",
    "**Newton's Method**\n",
    "\n",
    "$x^*=x-\\frac{f(x)}{f'(x)}=x-\\frac{2x^3-9.5x+7.5}{6x^2-9.5}$"
   ]
  },
  {
   "cell_type": "code",
   "execution_count": 27,
   "id": "a348acc6",
   "metadata": {},
   "outputs": [
    {
     "name": "stdout",
     "output_type": "stream",
     "text": [
      "the root is 1.500 at 7 iterations.\n"
     ]
    }
   ],
   "source": [
    "# Method 1\n",
    "\n",
    "x = 5                                               #initial guess(take x=,-10,0,20)\n",
    "for i in range(100):\n",
    "    xnew = x - (2*x**3-9.5*x+7.5)/(6*x**2-9.5)\n",
    "    if abs(xnew-x)<0.001:                           # take tolerance < 0.000001\n",
    "        break\n",
    "    x = xnew\n",
    "print('the root is %.3f at %d iterations.'%(xnew,i))"
   ]
  },
  {
   "cell_type": "code",
   "execution_count": 28,
   "id": "fd2781c7",
   "metadata": {},
   "outputs": [
    {
     "name": "stdout",
     "output_type": "stream",
     "text": [
      "the root is 1.500 at 7 iterations.\n"
     ]
    }
   ],
   "source": [
    "# Method 2 (using functions)\n",
    "\n",
    "def newton(fn,dfn,x,tol,maxiter):\n",
    "    for i in range(maxiter):\n",
    "        xnew = x - fn(x)/dfn(x)\n",
    "        if abs(xnew-x)<tol:                          \n",
    "            break\n",
    "        x = xnew\n",
    "    return xnew, i\n",
    "\n",
    "y = lambda x: 2*x**3-9.5*x+7.5\n",
    "dy = lambda x : 6*x**2-9.5\n",
    "\n",
    "x, n = newton(y, dy, 5, 0.0001, 100)\n",
    "print('the root is %.3f at %d iterations.'%(x,n))"
   ]
  },
  {
   "cell_type": "code",
   "execution_count": 29,
   "id": "19485a3e",
   "metadata": {},
   "outputs": [
    {
     "name": "stdout",
     "output_type": "stream",
     "text": [
      "the root is 1.500 at 7 iterations.\n"
     ]
    }
   ],
   "source": [
    "# Method 3 (using functions)\n",
    "\n",
    "def newton(fn,x,tol=0.0001,maxiter=1000):\n",
    "    for i in range(maxiter):\n",
    "        xnew = x - fn[0](x)/fn[1](x)\n",
    "        if abs(xnew-x)<tol:                          \n",
    "            break\n",
    "        x = xnew\n",
    "    return xnew, i\n",
    "\n",
    "y = [lambda x: 2*x**3-9.5*x+7.5, lambda x : 6*x**2-9.5]\n",
    "\n",
    "x, n = newton(y,5)\n",
    "print('the root is %.3f at %d iterations.'%(x,n))"
   ]
  },
  {
   "cell_type": "code",
   "execution_count": 17,
   "id": "c4d2aa02",
   "metadata": {},
   "outputs": [
    {
     "ename": "NameError",
     "evalue": "name 'actual' is not defined",
     "output_type": "error",
     "traceback": [
      "\u001b[0;31m---------------------------------------------------------------------------\u001b[0m",
      "\u001b[0;31mNameError\u001b[0m                                 Traceback (most recent call last)",
      "\u001b[0;32m/var/folders/y4/qdwtwnqx71l51dtpzxylx43h0000gn/T/ipykernel_961/1606405331.py\u001b[0m in \u001b[0;36m<module>\u001b[0;34m\u001b[0m\n\u001b[1;32m     31\u001b[0m \u001b[0;34m\u001b[0m\u001b[0m\n\u001b[1;32m     32\u001b[0m \u001b[0;32mfor\u001b[0m \u001b[0mi\u001b[0m \u001b[0;32min\u001b[0m \u001b[0mrange\u001b[0m\u001b[0;34m(\u001b[0m\u001b[0mmax_iter\u001b[0m\u001b[0;34m)\u001b[0m\u001b[0;34m:\u001b[0m\u001b[0;34m\u001b[0m\u001b[0;34m\u001b[0m\u001b[0m\n\u001b[0;32m---> 33\u001b[0;31m     \u001b[0mactual_error\u001b[0m\u001b[0;34m[\u001b[0m\u001b[0mi\u001b[0m\u001b[0;34m]\u001b[0m \u001b[0;34m=\u001b[0m \u001b[0mabs\u001b[0m\u001b[0;34m(\u001b[0m\u001b[0mactual\u001b[0m\u001b[0;34m-\u001b[0m\u001b[0mxi\u001b[0m\u001b[0;34m)\u001b[0m\u001b[0;34m\u001b[0m\u001b[0;34m\u001b[0m\u001b[0m\n\u001b[0m\u001b[1;32m     34\u001b[0m \u001b[0;31m#    actual_relerror = abs(actual_error[i]/actual)*100\u001b[0m\u001b[0;34m\u001b[0m\u001b[0;34m\u001b[0m\u001b[0m\n\u001b[1;32m     35\u001b[0m \u001b[0;34m\u001b[0m\u001b[0m\n",
      "\u001b[0;31mNameError\u001b[0m: name 'actual' is not defined"
     ]
    }
   ],
   "source": [
    "#Method 4\n",
    "\n",
    "import numpy as np\n",
    "import matplotlib.pyplot as plt\n",
    "from math import cos\n",
    "from math import sin\n",
    "from math import pi\n",
    "\n",
    "def fn(x):\n",
    "    return cos(x)\n",
    " \n",
    "def dfn(x):\n",
    "    return -sin(x)\n",
    "\n",
    "x0 = 2\n",
    "actual_root = pi/2\n",
    "\n",
    "max_iter =20\n",
    "tolerance = 5.0e-8\n",
    "\n",
    "#################################\n",
    "aprox_error = np.zeros(max_iter)\n",
    "actual_error = np.zeros(max_iter)\n",
    "aprox_relerror = np.zeros(max_iter)\n",
    "actual_relerror = np.zeros(max_iter)\n",
    "#################################\n",
    "\n",
    "actual_error[0]\n",
    "\n",
    "xi = x0 # set initial x as first value in iteration\n",
    "\n",
    "for i in range(max_iter):\n",
    "    actual_error[i] = abs(actual-xi)\n",
    "#    actual_relerror = abs(actual_error[i]/actual)*100\n",
    "    \n",
    "#    xi_plus1 = xi - fn(xi)/dfn(xi)\n",
    "    \n",
    "#    approx_error[i+1] = abs(xi_plus1-xi)\n",
    "#    approx_relerror[i+1] = abs(approx_error[i]/xiplus1)\n",
    "    \n",
    "#    if approx_relerror[i+1] < tolerance:\n",
    "#        break\n",
    "#    xi = xiplus1\n",
    "#print('root at :',xi,'with tolerance',tolerance)"
   ]
  },
  {
   "cell_type": "markdown",
   "id": "7086f0a3",
   "metadata": {},
   "source": [
    "# Regula Falsi Method"
   ]
  },
  {
   "cell_type": "markdown",
   "id": "8f9d3a68",
   "metadata": {},
   "source": [
    "**Algorithm** <br>\n",
    "\n",
    "1. Input two values $x_1$ and $x_2$ that define the interval where the root is expected\n",
    "2. check for the sign difference between $f(x_1)$ and $f(x_2)$\n",
    "3. if the signs are not opposite, stop\n",
    "4. calculate the value of $x_h = x_2 - \\frac{x_2-x_1}{y_2-y_1} y_2$\n",
    "5. if $|f(x_n)|$ approaches zero, print $x_n$ (the root) and stop\n",
    "6. if $f(x_1)$ and $f(x_2)$ have opposite signs, let $x_2=x_h$\n",
    "7. Else let $x_1=x_h$\n",
    "8. if number of falso positions reaches the maximum, stop\n",
    "9. repeat the step from 4"
   ]
  },
  {
   "cell_type": "markdown",
   "id": "a08be900",
   "metadata": {},
   "source": [
    "**Example**\n",
    "\n",
    "Find the root of the following equation:\n",
    "\n",
    "$x^2-sin^2(x)-4x+1=0$\n",
    "\n",
    "**Solution :**\n",
    "\n",
    "$y(x)=x^2-sin^2(x)-4x+1$ \n",
    "\n",
    "**input 1**: take $x_1 =0$ and $x_2=1$\n",
    "\n",
    "**input 2**: take $x_1 =1$ and $x_2=5$"
   ]
  },
  {
   "cell_type": "code",
   "execution_count": 31,
   "id": "8087ac25",
   "metadata": {},
   "outputs": [
    {
     "name": "stdout",
     "output_type": "stream",
     "text": [
      "enter x1: 0\n",
      "enter x2: 1\n",
      "The root = 0.250324 at 4 false position\n"
     ]
    }
   ],
   "source": [
    "from math import sin\n",
    "def reg_falsi(f,x1,x2,tol=1.0e-6,maxfpos=100):\n",
    "    \n",
    "    if f(x1) * f(x2)<0:\n",
    "        for fpos in range(1,maxfpos+1):\n",
    "            xh = x2 - (x2-x1)/(f(x2)-f(x1)) * f(x2)\n",
    "            if abs(f(xh)) < tol:\n",
    "                break\n",
    "            elif f(x1) * f(xh) < 0:\n",
    "                x2 = xh\n",
    "            else:\n",
    "                x1 = xh\n",
    "    else:\n",
    "        print('No roots exists within the given interval')\n",
    "        \n",
    "    return xh, fpos\n",
    "\n",
    "y = lambda x: x**2 - sin(x)**2 - 4*x + 1\n",
    "\n",
    "x1 = float(input('enter x1: '))\n",
    "x2 = float(input('enter x2: '))\n",
    "\n",
    "r, n = reg_falsi(y,x1,x2)\n",
    "print('The root = %f at %d false position'%(r,n))"
   ]
  },
  {
   "cell_type": "markdown",
   "id": "1e45b401",
   "metadata": {},
   "source": [
    "# Secant Method"
   ]
  },
  {
   "cell_type": "markdown",
   "id": "f8c5b6c8",
   "metadata": {},
   "source": [
    "**Algorithm**\n",
    "\n",
    "1. Input two values for $x_1$ and $x_2$\n",
    "2. Calculate $x_{new} = x_2 - \\frac{x_2-x_1}{f(x_2)-f(x_1)}f(x_2)$\n",
    "3. If $|x_{new} - x_2| < tolerance$ , output $x_{new}$ the root and stop\n",
    "4. If number of iterations reaches the maximum, stop.\n",
    "5. Else let $x_1=x_2$ and $x_2=x_{new}$\n",
    "6. Repeat the steps from 2"
   ]
  },
  {
   "cell_type": "markdown",
   "id": "e2a985c8",
   "metadata": {},
   "source": [
    "**Example :**\n",
    "    \n",
    "Find the roots of the following equation\n",
    "\n",
    "$2x^2 - 5x + 3 = 0$  analytical roots are $x = 1.5,1$\n",
    "\n",
    "**Solution** \n",
    "let $y(x) = 2x^2-5x+3$"
   ]
  },
  {
   "cell_type": "code",
   "execution_count": 33,
   "id": "18499359",
   "metadata": {},
   "outputs": [
    {
     "name": "stdout",
     "output_type": "stream",
     "text": [
      "enter x1: 0\n",
      "enter x2: 2\n",
      "Root = 1.500000 at 8 iterations\n"
     ]
    }
   ],
   "source": [
    "def secant(fn,x1,x2,tol,maxiter):\n",
    "    for i in range(maxiter):\n",
    "        xnew  = x2 - (x2-x1)/(fn(x2)-fn(x1))*fn(x2)\n",
    "        if abs(xnew-x2) < tol:\n",
    "            break\n",
    "        else:\n",
    "            x1 = x2\n",
    "            x2 = xnew\n",
    "    else:\n",
    "        print('warning: Maximum number of iterations is reached')\n",
    "    return xnew, i\n",
    "\n",
    "f = lambda x: 2*x**2 - 5*x + 3 \n",
    "\n",
    "x1 = float(input('enter x1: '))\n",
    "x2 = float(input('enter x2: '))\n",
    "\n",
    "r, n = secant(f,x1,x2,1.0e-6,100)\n",
    "\n",
    "print('Root = %f at %d iterations'%(r,n))"
   ]
  },
  {
   "cell_type": "code",
   "execution_count": null,
   "id": "b22cd7e8",
   "metadata": {},
   "outputs": [],
   "source": []
  }
 ],
 "metadata": {
  "kernelspec": {
   "display_name": "Python 3 (ipykernel)",
   "language": "python",
   "name": "python3"
  },
  "language_info": {
   "codemirror_mode": {
    "name": "ipython",
    "version": 3
   },
   "file_extension": ".py",
   "mimetype": "text/x-python",
   "name": "python",
   "nbconvert_exporter": "python",
   "pygments_lexer": "ipython3",
   "version": "3.9.7"
  }
 },
 "nbformat": 4,
 "nbformat_minor": 5
}
